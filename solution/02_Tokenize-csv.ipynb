{
 "cells": [
  {
   "attachments": {},
   "cell_type": "markdown",
   "metadata": {},
   "source": [
    "# Erzeugung von eine embeddet file aus csv in csv\n",
    "\n",
    "### Einlesen einer CSV"
   ]
  },
  {
   "attachments": {},
   "cell_type": "markdown",
   "metadata": {},
   "source": [
    "Prompt:\n",
    "\n",
    "Schreibe einen Python Code, der folgende Funktionen erfüllt:\n",
    "- Einlesen der erzeugten csv datei von oben\n",
    "- die inhalte mit openai embedding-adda-002 embedden\n",
    "- exrgebnisse in eine csv speichern\n",
    "- der code soll produktionsreif sein\n",
    "- der code soll eine hohe qualität aufweisen"
   ]
  },
  {
   "cell_type": "code",
   "execution_count": 1,
   "metadata": {},
   "outputs": [],
   "source": [
    "import openai\n",
    "import pandas as pd\n",
    "import numpy as np\n",
    "from getpass import getpass\n",
    "\n",
    "openai.api_key = getpass()"
   ]
  },
  {
   "cell_type": "code",
   "execution_count": 2,
   "metadata": {},
   "outputs": [
    {
     "name": "stdout",
     "output_type": "stream",
     "text": [
      "                                              Sentence\n",
      "0    Wir sind ein führender MarTech- und CRM-Spezia...\n",
      "1    Ergebnisse unserer strategisch ausgerichteten ...\n",
      "2    Als Pioniere der Marketing- und Sales Automati...\n",
      "3    Wenn Sie wissen möchten, wie Marketing Automat...\n",
      "4    Ausgehend von der Buyer Persona Studie, entwic...\n",
      "..                                                 ...\n",
      "180  Somit können wir digitale Customer Journeys kü...\n",
      "181  Dies war ein wichtiger Meilenstein für die Erw...\n",
      "182  Für einige unserer Kunden haben wir bereits mi...\n",
      "183  In unserem letzten Software-Vergleich haben wi...\n",
      "184  Nun geht es um einen CRM Vergleich: HubSpot Sa...\n",
      "\n",
      "[185 rows x 1 columns]\n"
     ]
    }
   ],
   "source": [
    "df = pd.read_csv('./sentences.csv')\n",
    "print(df)"
   ]
  },
  {
   "attachments": {},
   "cell_type": "markdown",
   "metadata": {},
   "source": [
    "Mit gpt tokenisieren wir die daten"
   ]
  },
  {
   "cell_type": "code",
   "execution_count": 4,
   "metadata": {},
   "outputs": [
    {
     "data": {
      "text/html": [
       "<div>\n",
       "<style scoped>\n",
       "    .dataframe tbody tr th:only-of-type {\n",
       "        vertical-align: middle;\n",
       "    }\n",
       "\n",
       "    .dataframe tbody tr th {\n",
       "        vertical-align: top;\n",
       "    }\n",
       "\n",
       "    .dataframe thead th {\n",
       "        text-align: right;\n",
       "    }\n",
       "</style>\n",
       "<table border=\"1\" class=\"dataframe\">\n",
       "  <thead>\n",
       "    <tr style=\"text-align: right;\">\n",
       "      <th></th>\n",
       "      <th>Sentence</th>\n",
       "      <th>embedding</th>\n",
       "    </tr>\n",
       "  </thead>\n",
       "  <tbody>\n",
       "    <tr>\n",
       "      <th>0</th>\n",
       "      <td>Wir sind ein führender MarTech- und CRM-Spezia...</td>\n",
       "      <td>[-0.015356482937932014, -0.0056793601252138615...</td>\n",
       "    </tr>\n",
       "    <tr>\n",
       "      <th>1</th>\n",
       "      <td>Ergebnisse unserer strategisch ausgerichteten ...</td>\n",
       "      <td>[-0.03115711361169815, -0.006139284465461969, ...</td>\n",
       "    </tr>\n",
       "    <tr>\n",
       "      <th>2</th>\n",
       "      <td>Als Pioniere der Marketing- und Sales Automati...</td>\n",
       "      <td>[-0.015906674787402153, -0.029621126130223274,...</td>\n",
       "    </tr>\n",
       "    <tr>\n",
       "      <th>3</th>\n",
       "      <td>Wenn Sie wissen möchten, wie Marketing Automat...</td>\n",
       "      <td>[-0.008492134511470795, -0.002637948375195265,...</td>\n",
       "    </tr>\n",
       "    <tr>\n",
       "      <th>4</th>\n",
       "      <td>Ausgehend von der Buyer Persona Studie, entwic...</td>\n",
       "      <td>[-0.010253709740936756, -0.0064624762162566185...</td>\n",
       "    </tr>\n",
       "    <tr>\n",
       "      <th>...</th>\n",
       "      <td>...</td>\n",
       "      <td>...</td>\n",
       "    </tr>\n",
       "    <tr>\n",
       "      <th>180</th>\n",
       "      <td>Somit können wir digitale Customer Journeys kü...</td>\n",
       "      <td>[-0.0034593797754496336, 0.0010707604233175516...</td>\n",
       "    </tr>\n",
       "    <tr>\n",
       "      <th>181</th>\n",
       "      <td>Dies war ein wichtiger Meilenstein für die Erw...</td>\n",
       "      <td>[0.010191197507083416, -0.006742951925843954, ...</td>\n",
       "    </tr>\n",
       "    <tr>\n",
       "      <th>182</th>\n",
       "      <td>Für einige unserer Kunden haben wir bereits mi...</td>\n",
       "      <td>[0.0111390957608819, -0.012364652939140797, 0....</td>\n",
       "    </tr>\n",
       "    <tr>\n",
       "      <th>183</th>\n",
       "      <td>In unserem letzten Software-Vergleich haben wi...</td>\n",
       "      <td>[-0.0007642782293260098, -0.016801957041025162...</td>\n",
       "    </tr>\n",
       "    <tr>\n",
       "      <th>184</th>\n",
       "      <td>Nun geht es um einen CRM Vergleich: HubSpot Sa...</td>\n",
       "      <td>[-0.0013126269914209843, -0.009445703588426113...</td>\n",
       "    </tr>\n",
       "  </tbody>\n",
       "</table>\n",
       "<p>185 rows × 2 columns</p>\n",
       "</div>"
      ],
      "text/plain": [
       "                                              Sentence  \\\n",
       "0    Wir sind ein führender MarTech- und CRM-Spezia...   \n",
       "1    Ergebnisse unserer strategisch ausgerichteten ...   \n",
       "2    Als Pioniere der Marketing- und Sales Automati...   \n",
       "3    Wenn Sie wissen möchten, wie Marketing Automat...   \n",
       "4    Ausgehend von der Buyer Persona Studie, entwic...   \n",
       "..                                                 ...   \n",
       "180  Somit können wir digitale Customer Journeys kü...   \n",
       "181  Dies war ein wichtiger Meilenstein für die Erw...   \n",
       "182  Für einige unserer Kunden haben wir bereits mi...   \n",
       "183  In unserem letzten Software-Vergleich haben wi...   \n",
       "184  Nun geht es um einen CRM Vergleich: HubSpot Sa...   \n",
       "\n",
       "                                             embedding  \n",
       "0    [-0.015356482937932014, -0.0056793601252138615...  \n",
       "1    [-0.03115711361169815, -0.006139284465461969, ...  \n",
       "2    [-0.015906674787402153, -0.029621126130223274,...  \n",
       "3    [-0.008492134511470795, -0.002637948375195265,...  \n",
       "4    [-0.010253709740936756, -0.0064624762162566185...  \n",
       "..                                                 ...  \n",
       "180  [-0.0034593797754496336, 0.0010707604233175516...  \n",
       "181  [0.010191197507083416, -0.006742951925843954, ...  \n",
       "182  [0.0111390957608819, -0.012364652939140797, 0....  \n",
       "183  [-0.0007642782293260098, -0.016801957041025162...  \n",
       "184  [-0.0013126269914209843, -0.009445703588426113...  \n",
       "\n",
       "[185 rows x 2 columns]"
      ]
     },
     "execution_count": 4,
     "metadata": {},
     "output_type": "execute_result"
    }
   ],
   "source": [
    "from openai.embeddings_utils import get_embedding\n",
    "df = df.reset_index(drop=True)\n",
    "df['embedding'] = df['Sentence'].apply(lambda x: get_embedding(x, engine='text-embedding-ada-002'))\n",
    "df.to_csv('./embeddings.csv')\n",
    "df"
   ]
  }
 ],
 "metadata": {
  "kernelspec": {
   "display_name": "Python 3",
   "language": "python",
   "name": "python3"
  },
  "language_info": {
   "codemirror_mode": {
    "name": "ipython",
    "version": 3
   },
   "file_extension": ".py",
   "mimetype": "text/x-python",
   "name": "python",
   "nbconvert_exporter": "python",
   "pygments_lexer": "ipython3",
   "version": "3.9.16"
  },
  "orig_nbformat": 4,
  "vscode": {
   "interpreter": {
    "hash": "38961f1494fca1c60244c0ce9721cf3e1d00fd27b476f8a2c1cd82df7ffcc644"
   }
  }
 },
 "nbformat": 4,
 "nbformat_minor": 2
}
