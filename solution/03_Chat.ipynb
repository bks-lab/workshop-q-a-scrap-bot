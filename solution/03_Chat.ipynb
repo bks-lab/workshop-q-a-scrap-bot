{
 "cells": [
  {
   "attachments": {},
   "cell_type": "markdown",
   "metadata": {},
   "source": [
    "Prompt:\n",
    "\n",
    "Schreibe einen Python Code, der folgende Funktionen erfüllt:\n",
    "- Nutzen der CSV mit den Embeddings\n",
    "- Funktion bauen um eine Frage als text zu embedden\n",
    "- der embeddete text soll mit den anderen embeddings informationen nach simularity verglichen werden\n",
    "- es sollen die top 3 nährstens cusens ausgegeben werden"
   ]
  },
  {
   "cell_type": "code",
   "execution_count": 4,
   "metadata": {},
   "outputs": [],
   "source": [
    "import openai\n",
    "import pandas as pd\n",
    "import numpy as np\n",
    "from openai.embeddings_utils import get_embedding\n",
    "from openai.embeddings_utils import cosine_similarity\n",
    "import sys\n",
    "import os\n",
    "from dotenv import load_dotenv\n",
    "\n",
    "path_csv_Data = './embeddings.csv'\n",
    "df = pd.read_csv(path_csv_Data, on_bad_lines='skip')\n",
    "df['embedding'] = df['embedding'].apply(eval).apply(np.array)\n",
    "openai.api_key = os.getenv(\"OPENAI_API_KEY\")\n",
    "model = \"gpt-3.5-turbo\"\n",
    "\n",
    "regel1 = ''' Beantworte die Frage so wahrheitsgemäß wie möglich nur mit den Informationen die im KONTEXT stehen. \n",
    "    Strukturiere und Formatiere die Antwort leserlich und visuell mit den Informatione die zur verfügung stehen.\n",
    "    Und ändere den Satzaufbau um den Fragesteller besser zu informieren.\n",
    "    LINKS und EMAILs die aus dem KONTEXT benutzt werden dürfen NICHT VERÄNDERT werden. '''\n",
    "\n",
    "regel2: str = '\\n Wenn die Antwort nicht im KONTEXT zu finden ist so beantworte die Frage nicht und sage: \"Tut mir ' \\\n",
    "    'leid, leider konnte ich zu Ihrer Frage keine Daten finden.\"'\n",
    "prepromt = regel1 + regel2\n",
    "\n",
    "\n",
    "def get_response(message, df, model):\n",
    "\n",
    "\n",
    "    df[\"similarities\"] = df['embedding'].apply(lambda x: cosine_similarity(x, get_embedding(message, engine=\"text-embedding-ada-002\")))\n",
    "    top_5_answers = df.sort_values(\"similarities\", ascending=False).iloc[:5]['Sentence'].tolist()\n",
    "    \n",
    "\n",
    "        \n",
    "    sim_kontext = 'KONTEXT: '    \n",
    "    print('TOP 3 Antworten')\n",
    "    for i, answer in enumerate(top_5_answers):\n",
    "        sim_kontext = sim_kontext + '\\n' + answer\n",
    "        print(f\"{i + 1}: {answer}\")\n",
    "        \n",
    "        \n",
    "    messages = [\n",
    "    {\"role\": \"system\", \"content\": \"Du bist ein hilfreicher Website Q&A Bot.\" + prepromt},\n",
    "    {\"role\": \"user\", \"content\": message + '\\n' + sim_kontext}\n",
    "]\n",
    "\n",
    "    response = openai.ChatCompletion.create(\n",
    "        model=model,\n",
    "        messages=messages,\n",
    "        tempreture=0.5,\n",
    "    )\n",
    "\n",
    "    response_text = response[\"choices\"][0][\"message\"][\"content\"]\n",
    "\n",
    "    return response_text\n"
   ]
  },
  {
   "cell_type": "code",
   "execution_count": 5,
   "metadata": {},
   "outputs": [
    {
     "name": "stdout",
     "output_type": "stream",
     "text": [
      "Frage: Seid wann gibt es die Codersunlimited?\n"
     ]
    }
   ],
   "source": [
    "\n",
    "\n",
    "user_query = \"Seid wann gibt es die Codersunlimited?\"\n",
    "#user_query = \"Was hat die Codersunlimited mit Ryze zu tun?\"\n",
    "#user_query = \"Was bietet die Codersunlimited an?\"\n",
    "#user_query = \"Wer ist Bunderskanzler in Deutschland?\"\n",
    "print(\"Frage: \" + user_query)\n",
    "\n",
    "response = get_response(user_query, df, model)\n",
    "print(response)\n"
   ]
  },
  {
   "attachments": {},
   "cell_type": "markdown",
   "metadata": {},
   "source": [
    "Erstelle mir aus folgenden code eine schöne Streamlit anwendung, bei der in der sideview erklärt wird was passiert und in der hauptanwendung man die möglichkeit hat seine Frage zustellen. Es soll professionell aussehen:"
   ]
  }
 ],
 "metadata": {
  "kernelspec": {
   "display_name": "Python 3",
   "language": "python",
   "name": "python3"
  },
  "language_info": {
   "codemirror_mode": {
    "name": "ipython",
    "version": 3
   },
   "file_extension": ".py",
   "mimetype": "text/x-python",
   "name": "python",
   "nbconvert_exporter": "python",
   "pygments_lexer": "ipython3",
   "version": "3.9.16"
  },
  "orig_nbformat": 4
 },
 "nbformat": 4,
 "nbformat_minor": 2
}
