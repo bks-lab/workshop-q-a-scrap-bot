{
 "cells": [
  {
   "attachments": {},
   "cell_type": "markdown",
   "metadata": {},
   "source": [
    "## Ziehe alle Sätze aus einer Webseite, bereinige Sie und speichere als CSV\n",
    "\n",
    "\n",
    "Prompt:\n",
    "\n",
    "Schreibe einen Python Code, der folgende Funktionen erfüllt:\n",
    "- Extrahieren aus einer Webseite alle Sätze\n",
    "- Extrahiere auch aus allen verlinkten Seiten aus der Hauptseite innerhalb der Domäne\n",
    "- max 10 links probieren\n",
    "- die Sätze sollen forbereitet werden zur embedding verarbeitung mit openai\n",
    "- Textblöcke säubern und korrigieren\n",
    "- Entfernen von Zeilenumbrüchen und Leerzeichen am Anfang und Ende\n",
    "- nur sätze nehmen die mindestens 10 Wörter hat\n",
    "- es soll als csv gespeichert werden\n",
    "- der code soll produktionsreif sein\n",
    "- der code soll eine hohe qualität aufweisen"
   ]
  },
  {
   "cell_type": "code",
   "execution_count": 4,
   "metadata": {},
   "outputs": [],
   "source": []
  }
 ],
 "metadata": {
  "kernelspec": {
   "display_name": "Python 3",
   "language": "python",
   "name": "python3"
  },
  "language_info": {
   "codemirror_mode": {
    "name": "ipython",
    "version": 3
   },
   "file_extension": ".py",
   "mimetype": "text/x-python",
   "name": "python",
   "nbconvert_exporter": "python",
   "pygments_lexer": "ipython3",
   "version": "3.9.16"
  },
  "orig_nbformat": 4
 },
 "nbformat": 4,
 "nbformat_minor": 2
}
