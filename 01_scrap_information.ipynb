{
 "cells": [
  {
   "attachments": {},
   "cell_type": "markdown",
   "metadata": {},
   "source": [
    "## Ziehe alle Sätze aus einer Webseite, bereinige Sie und speichere als CSV\n",
    "\n",
    "\n",
    "Prompt:\n",
    "\n",
    "Schreibe einen Python Code, der folgende Funktionen erfüllt:\n",
    "- Extrahieren aus einer Webseite alle Sätze\n",
    "- Extrahiere auch aus allen verlinkten Seiten aus der Hauptseite innerhalb der Domäne\n",
    "- max 10 links probieren\n",
    "- die Sätze sollen forbereitet werden zur embedding verarbeitung mit openai\n",
    "- Textblöcke säubern und korrigieren\n",
    "- Entfernen von Zeilenumbrüchen und Leerzeichen am Anfang und Ende\n",
    "- nur sätze nehmen die mindestens 10 Wörter hat\n",
    "- es soll als csv gespeichert werden\n",
    "- der code soll produktionsreif sein\n",
    "- der code soll eine hohe qualität aufweisen"
   ]
  },
  {
   "cell_type": "code",
   "execution_count": 1,
   "metadata": {},
   "outputs": [],
   "source": [
    "import csv\n",
    "import requests\n",
    "from bs4 import BeautifulSoup\n",
    "from urllib.parse import urlparse, urljoin\n",
    "\n",
    "MAX_LINKS = 10\n",
    "\n",
    "def prepare_text(sentence):\n",
    "    sentence = sentence.strip()  # Leerzeichen am Anfang und Ende entfernen\n",
    "    sentence = sentence.replace('\\n', ' ')  # Zeilenumbrüche entfernen\n",
    "    return sentence\n",
    "\n",
    "def extract_sentences(url):\n",
    "    try:\n",
    "        response = requests.get(url)\n",
    "        soup = BeautifulSoup(response.content, 'html.parser')\n",
    "\n",
    "        # Extrahiere Sätze aus der aktuellen Seite\n",
    "        sentences = []\n",
    "        for paragraph in soup.find_all('p'):\n",
    "            raw_text = paragraph.get_text()\n",
    "            sentences.extend(raw_text.split('. '))\n",
    "\n",
    "        # Extrahiere Links und verfolge sie innerhalb der Domäne\n",
    "        domain = urlparse(url).netloc\n",
    "        links = set()\n",
    "        for link in soup.find_all('a', href=True):\n",
    "            if len(links) >= MAX_LINKS:\n",
    "                break\n",
    "            href = link['href']\n",
    "            if href.startswith('/') or domain in href:\n",
    "                absolute_url = urljoin(url, href)\n",
    "                links.add(absolute_url)\n",
    "\n",
    "        # Extrahiere Sätze aus den verlinkten Seiten\n",
    "        for link in links:\n",
    "            response = requests.get(link)\n",
    "            linked_soup = BeautifulSoup(response.content, 'html.parser')\n",
    "            for paragraph in linked_soup.find_all('p'):\n",
    "                raw_text = paragraph.get_text()\n",
    "                sentences.extend(raw_text.split('. '))\n",
    "\n",
    "        # Sätze vorbereiten und filtern\n",
    "        sentences = [prepare_text(sentence) for sentence in sentences if len(sentence.split()) >= 10]\n",
    "\n",
    "        return sentences\n",
    "    except:\n",
    "        return []\n",
    "\n",
    "def save_to_csv(sentences, filename):\n",
    "    with open(filename, 'w', newline='', encoding='utf-8') as file:\n",
    "        writer = csv.writer(file)\n",
    "        writer.writerow(['Sentence'])\n",
    "        writer.writerows([[sentence] for sentence in sentences])\n",
    "\n",
    "\n",
    "\n"
   ]
  },
  {
   "cell_type": "code",
   "execution_count": 2,
   "metadata": {},
   "outputs": [],
   "source": [
    "url = 'https://www.example.com'  # Setze hier die URL deiner gewünschten Webseite ein\n",
    "sentences = extract_sentences(url)\n",
    "save_to_csv(sentences, 'sentences.csv')"
   ]
  }
 ],
 "metadata": {
  "kernelspec": {
   "display_name": "Python 3",
   "language": "python",
   "name": "python3"
  },
  "language_info": {
   "codemirror_mode": {
    "name": "ipython",
    "version": 3
   },
   "file_extension": ".py",
   "mimetype": "text/x-python",
   "name": "python",
   "nbconvert_exporter": "python",
   "pygments_lexer": "ipython3",
   "version": "3.9.16"
  },
  "orig_nbformat": 4
 },
 "nbformat": 4,
 "nbformat_minor": 2
}
