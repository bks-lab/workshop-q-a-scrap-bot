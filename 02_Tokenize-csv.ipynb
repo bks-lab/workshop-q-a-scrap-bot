{
 "cells": [
  {
   "attachments": {},
   "cell_type": "markdown",
   "metadata": {},
   "source": [
    "# Erzeugung von eine embeddet file aus csv in csv\n"
   ]
  },
  {
   "attachments": {},
   "cell_type": "markdown",
   "metadata": {},
   "source": [
    "Prompt:\n",
    "\n",
    "Schreibe einen Python Code, der folgende Funktionen erfüllt:\n",
    "- Einlesen der erzeugten csv datei von oben\n",
    "- die inhalte mit openai embedding-adda-002 embedden\n",
    "- ergebnisse in eine csv speichern\n",
    "- der code soll produktionsreif sein\n",
    "- der code soll eine hohe qualität aufweisen"
   ]
  }
 ],
 "metadata": {
  "kernelspec": {
   "display_name": "Python 3",
   "language": "python",
   "name": "python3"
  },
  "language_info": {
   "codemirror_mode": {
    "name": "ipython",
    "version": 3
   },
   "file_extension": ".py",
   "mimetype": "text/x-python",
   "name": "python",
   "nbconvert_exporter": "python",
   "pygments_lexer": "ipython3",
   "version": "3.9.16"
  },
  "orig_nbformat": 4,
  "vscode": {
   "interpreter": {
    "hash": "38961f1494fca1c60244c0ce9721cf3e1d00fd27b476f8a2c1cd82df7ffcc644"
   }
  }
 },
 "nbformat": 4,
 "nbformat_minor": 2
}
