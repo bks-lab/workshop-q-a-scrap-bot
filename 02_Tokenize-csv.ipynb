{
 "cells": [
  {
   "attachments": {},
   "cell_type": "markdown",
   "metadata": {},
   "source": [
    "# Erzeugung von eine embeddet file aus csv in csv\n",
    "\n",
    "### Einlesen einer CSV"
   ]
  },
  {
   "attachments": {},
   "cell_type": "markdown",
   "metadata": {},
   "source": [
    "Prompt:\n",
    "\n",
    "Schreibe einen Python Code, der folgende Funktionen erfüllt:\n",
    "- Einlesen der erzeugten csv datei von oben\n",
    "- die inhalte mit openai embedding-adda-002 embedden\n",
    "- exrgebnisse in eine csv speichern\n",
    "- der code soll produktionsreif sein\n",
    "- der code soll eine hohe qualität aufweisen"
   ]
  },
  {
   "cell_type": "code",
   "execution_count": null,
   "metadata": {},
   "outputs": [],
   "source": [
    "import openai\n",
    "import pandas as pd\n",
    "import numpy as np\n",
    "from getpass import getpass\n",
    "\n",
    "openai.api_key = getpass()"
   ]
  },
  {
   "cell_type": "code",
   "execution_count": null,
   "metadata": {},
   "outputs": [],
   "source": [
    "df = pd.read_csv('./sentences.csv')\n",
    "print(df)"
   ]
  },
  {
   "attachments": {},
   "cell_type": "markdown",
   "metadata": {},
   "source": [
    "Mit gpt tokenisieren wir die daten"
   ]
  },
  {
   "cell_type": "code",
   "execution_count": null,
   "metadata": {},
   "outputs": [],
   "source": [
    "from openai.embeddings_utils import get_embedding\n",
    "df = df.reset_index(drop=True)\n",
    "df['embedding'] = df['Sentence'].apply(lambda x: get_embedding(x, engine='text-embedding-ada-002'))\n",
    "df.to_csv('./embeddings.csv')\n",
    "df"
   ]
  }
 ],
 "metadata": {
  "kernelspec": {
   "display_name": "Python 3",
   "language": "python",
   "name": "python3"
  },
  "language_info": {
   "codemirror_mode": {
    "name": "ipython",
    "version": 3
   },
   "file_extension": ".py",
   "mimetype": "text/x-python",
   "name": "python",
   "nbconvert_exporter": "python",
   "pygments_lexer": "ipython3",
   "version": "3.9.16"
  },
  "orig_nbformat": 4,
  "vscode": {
   "interpreter": {
    "hash": "38961f1494fca1c60244c0ce9721cf3e1d00fd27b476f8a2c1cd82df7ffcc644"
   }
  }
 },
 "nbformat": 4,
 "nbformat_minor": 2
}
