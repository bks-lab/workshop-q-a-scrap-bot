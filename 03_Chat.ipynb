{
 "cells": [
  {
   "attachments": {},
   "cell_type": "markdown",
   "metadata": {},
   "source": [
    "Prompt:\n",
    "\n",
    "Schreibe einen Python Code, der folgende Funktionen erfüllt:\n",
    "- Nutzen der CSV mit den Embeddings\n",
    "- Funktion bauen um eine Frage als text zu embedden\n",
    "- der embeddete text soll mit den anderen embeddings informationen nach simularity verglichen werden\n",
    "- es sollen die top 3 nährstens cusens ausgegeben werden"
   ]
  },
  {
   "cell_type": "code",
   "execution_count": 1,
   "metadata": {},
   "outputs": [
    {
     "name": "stderr",
     "output_type": "stream",
     "text": [
      "/var/folders/nt/sgwrtchn5v782mbccyc213hw0000gn/T/ipykernel_28328/1683236551.py:9: FutureWarning: The error_bad_lines argument has been deprecated and will be removed in a future version. Use on_bad_lines in the future.\n",
      "\n",
      "\n",
      "  df = pd.read_csv(path_csv_Data, error_bad_lines=False)\n"
     ]
    }
   ],
   "source": [
    "import openai\n",
    "import pandas as pd\n",
    "import numpy as np\n",
    "from openai.embeddings_utils import get_embedding\n",
    "from openai.embeddings_utils import cosine_similarity\n",
    "import sys\n",
    "import os\n",
    "\n",
    "path_csv_Data = './embeddings.csv'\n",
    "df = pd.read_csv(path_csv_Data, error_bad_lines=False)\n",
    "df['embedding'] = df['embedding'].apply(eval).apply(np.array)\n",
    "\n",
    "openai.api_key = os.getenv(\"OPENAI_API_KEY\")\n",
    "model = \"gpt-3.5-turbo\"\n",
    "\n",
    "def get_response(message, df, model):\n",
    "    messages = [\n",
    "        {\"role\": \"system\", \"content\": \"You are a helpful assistant.\"},\n",
    "        {\"role\": \"user\", \"content\": message}\n",
    "    ]\n",
    "\n",
    "    df[\"similarities\"] = df['embedding'].apply(lambda x: cosine_similarity(x, get_embedding(message, engine=\"text-embedding-ada-002\")))\n",
    "    top_3_answers = df.sort_values(\"similarities\", ascending=False).iloc[:3]['Sentence'].tolist()\n",
    "\n",
    "    print('TOP 3 Antworten')\n",
    "    for i, answer in enumerate(top_3_answers):\n",
    "        print(f\"{i + 1}: {answer}\")\n",
    "\n",
    "    prompt = \"\\n\".join([f\"{i + 1}: {answer}\" for i, answer in enumerate(top_3_answers)])\n",
    "    print(\"Prompt: \" + prompt)\n",
    "\n",
    "    response = openai.ChatCompletion.create(\n",
    "        model=model,\n",
    "        messages=messages + [{\"role\": \"assistant\", \"content\": prompt}]\n",
    "    )\n",
    "\n",
    "    response_text = response[\"choices\"][0][\"message\"][\"content\"]\n",
    "\n",
    "    return response_text\n"
   ]
  },
  {
   "cell_type": "code",
   "execution_count": 2,
   "metadata": {},
   "outputs": [
    {
     "name": "stdout",
     "output_type": "stream",
     "text": [
      "Frage: Seid wann gibt es die Codersunlimited?\n",
      "TOP 3 Antworten\n",
      "1: Es ist gerade einmal drei Jahre her, dass Thorsten, Uwe und ich Anfang 2020 die Xengoo Consulting mit der Coders Unlimited zu einem neuartigen MarTech Unternehmen verschmolzen haben\n",
      "2: Das Management von RYZE Digital hatte 2021 den Markt nach einem Player im Segment Marketing- und Sales Automatisierung zwecks Akquisition gescannt und war so auf Coders Unlimited aufmerksam geworden\n",
      "3: Liebe Kunden, Partner und Freunde von CU, es gibt großartige Neuigkeiten in eigener Sache zum Jahresauftakt\n",
      "Prompt: 1: Es ist gerade einmal drei Jahre her, dass Thorsten, Uwe und ich Anfang 2020 die Xengoo Consulting mit der Coders Unlimited zu einem neuartigen MarTech Unternehmen verschmolzen haben\n",
      "2: Das Management von RYZE Digital hatte 2021 den Markt nach einem Player im Segment Marketing- und Sales Automatisierung zwecks Akquisition gescannt und war so auf Coders Unlimited aufmerksam geworden\n",
      "3: Liebe Kunden, Partner und Freunde von CU, es gibt großartige Neuigkeiten in eigener Sache zum Jahresauftakt\n",
      "Ich bitte um Verzeihung, als Sprach-KI-Bot habe ich keine Zugriff auf aktuelle Informationen zu Codersunlimited. Bitte suchen Sie nach aktuellen Informationen im Internet oder wenden Sie sich direkt an das Unternehmen.\n"
     ]
    }
   ],
   "source": [
    "\n",
    "\n",
    "user_query = \"Seid wann gibt es die Codersunlimited?\"\n",
    "print(\"Frage: \" + user_query)\n",
    "\n",
    "response = get_response(user_query, df, model)\n",
    "print(response)\n"
   ]
  }
 ],
 "metadata": {
  "kernelspec": {
   "display_name": "Python 3",
   "language": "python",
   "name": "python3"
  },
  "language_info": {
   "codemirror_mode": {
    "name": "ipython",
    "version": 3
   },
   "file_extension": ".py",
   "mimetype": "text/x-python",
   "name": "python",
   "nbconvert_exporter": "python",
   "pygments_lexer": "ipython3",
   "version": "3.9.16"
  },
  "orig_nbformat": 4
 },
 "nbformat": 4,
 "nbformat_minor": 2
}
