{
 "cells": [
  {
   "attachments": {},
   "cell_type": "markdown",
   "metadata": {},
   "source": [
    "Prompt:\n",
    "\n",
    "Schreibe einen Python Code, der folgende Funktionen erfüllt:\n",
    "- Nutzen der CSV mit den Embeddings\n",
    "- Funktion bauen um eine Frage als text zu embedden\n",
    "- der embeddete text soll mit den anderen embeddings informationen nach simularity verglichen werden\n",
    "- es sollen die top 3 nährstens cusens ausgegeben werden"
   ]
  },
  {
   "cell_type": "code",
   "execution_count": null,
   "metadata": {},
   "outputs": [],
   "source": []
  }
 ],
 "metadata": {
  "language_info": {
   "name": "python"
  },
  "orig_nbformat": 4
 },
 "nbformat": 4,
 "nbformat_minor": 2
}
